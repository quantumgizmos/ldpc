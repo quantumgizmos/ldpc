{
 "cells": [
  {
   "cell_type": "markdown",
   "metadata": {},
   "source": [
    "# Decoder setup\n",
    "\n",
    "To decode using belief propagation, first load an instance of the `ldpc.bp_decoder` class.\n"
   ]
  },
  {
   "cell_type": "code",
   "execution_count": 30,
   "metadata": {},
   "outputs": [],
   "source": [
    "import numpy as np\n",
    "from ldpc.codes import rep_code\n",
    "from ldpc import bp_decoder\n",
    "H=rep_code(3) #parity check matrix for the length-3 repetition code\n",
    "n=H.shape[1] #the codeword length\n",
    "\n",
    "bpd=bp_decoder(\n",
    "    H, #the parity check matrix\n",
    "    error_rate=0.1, # the error rate on each bit\n",
    "    max_iter=n, #the maximum iteration depth for BP\n",
    "    bp_method=\"product_sum\", #BP method. The other option is `minimum_sum'\n",
    "    channel_probs=[None] #channel probability probabilities. Will overide error rate.\n",
    ")"
   ]
  },
  {
   "cell_type": "markdown",
   "metadata": {},
   "source": [
    "# Received vector decoding\n",
    "\n",
    "Given a corrupted codeword, the `bp_decoder.decode` will provide an estimate of its unerrored form. For example, consider the case where we are encoding via a three-bit repetition code:"
   ]
  },
  {
   "cell_type": "code",
   "execution_count": 31,
   "metadata": {},
   "outputs": [],
   "source": [
    "codeword=np.array([1,1,1])"
   ]
  },
  {
   "cell_type": "markdown",
   "metadata": {},
   "source": [
    "If the above codeword is subject to an error on its first bit the received vector is given by"
   ]
  },
  {
   "cell_type": "code",
   "execution_count": 32,
   "metadata": {},
   "outputs": [],
   "source": [
    "received_vector=np.array([0,1,1])"
   ]
  },
  {
   "cell_type": "markdown",
   "metadata": {},
   "source": [
    "The above vector can be corrected using the `bp_decoder.decode` as follows:"
   ]
  },
  {
   "cell_type": "code",
   "execution_count": 33,
   "metadata": {},
   "outputs": [
    {
     "name": "stdout",
     "output_type": "stream",
     "text": [
      "[1 1 1]\n"
     ]
    }
   ],
   "source": [
    "decoded_codeword=bpd.decode(received_vector)\n",
    "\n",
    "print(decoded_codeword)"
   ]
  },
  {
   "cell_type": "markdown",
   "metadata": {},
   "source": [
    "# Syndrome decoding\n",
    "In syndrome decoding, the error syndrome is input to `bp_decoder.decode` function. This is useful in settings where the codeword cannot be directly measured. eg. in quantum error correction. The output of the syndrome recovery is an estimate of the error."
   ]
  },
  {
   "cell_type": "code",
   "execution_count": 34,
   "metadata": {},
   "outputs": [
    {
     "name": "stdout",
     "output_type": "stream",
     "text": [
      "Error: [0 1 0]\n",
      "Syndrome: [1 1]\n",
      "Decoding: [0 1 0]\n"
     ]
    }
   ],
   "source": [
    "error=np.array([0,1,0])\n",
    "syndrome=H@error%2\n",
    "decoding=bpd.decode(syndrome)\n",
    "print(f\"Error: {error}\")\n",
    "print(f\"Syndrome: {syndrome}\")\n",
    "print(f\"Decoding: {decoding}\")"
   ]
  },
  {
   "cell_type": "markdown",
   "metadata": {},
   "source": [
    "# Assymetric error channels\n",
    "If the code bits are subject to different error rates, a channel probability vector can be provided instead of the error rate."
   ]
  },
  {
   "cell_type": "code",
   "execution_count": 35,
   "metadata": {},
   "outputs": [
    {
     "name": "stdout",
     "output_type": "stream",
     "text": [
      "Error: [1 0 1]\n",
      "Syndrome: [1 1]\n",
      "Decoding: [1 0 1]\n"
     ]
    }
   ],
   "source": [
    "bpd=bp_decoder(\n",
    "    H, \n",
    "    max_iter=n,\n",
    "    bp_method=\"product_sum\", \n",
    "    channel_probs=[0.1,0,0.1] #channel probability probabilities. Will overide error rate.\n",
    ")\n",
    "\n",
    "error=np.array([1,0,1])\n",
    "syndrome=H@error%2\n",
    "decoding=bpd.decode(syndrome)\n",
    "print(f\"Error: {error}\")\n",
    "print(f\"Syndrome: {syndrome}\")\n",
    "print(f\"Decoding: {decoding}\")"
   ]
  },
  {
   "cell_type": "markdown",
   "metadata": {},
   "source": [
    "# Example: error correction over the binary symmetric channel"
   ]
  },
  {
   "cell_type": "code",
   "execution_count": 36,
   "metadata": {},
   "outputs": [
    {
     "name": "stdout",
     "output_type": "stream",
     "text": [
      "Error: [1 0 0 0 0 1 0 0 0 0 0 0 1]\n",
      "Syndrome: [1 0 0 0 1 1 0 0 0 0 0 1]\n",
      "Decoding: [1 0 0 0 0 1 0 0 0 0 0 0 1]\n",
      "\n",
      "Error: [1 0 0 0 0 1 0 0 1 0 0 1 0]\n",
      "Syndrome: [1 0 0 0 1 1 0 1 1 0 1 1]\n",
      "Decoding: [1 0 0 0 0 1 0 0 1 0 0 1 0]\n",
      "\n",
      "Error: [0 0 1 0 0 0 1 0 1 0 0 0 1]\n",
      "Syndrome: [0 1 1 0 0 1 1 1 1 0 0 1]\n",
      "Decoding: [0 0 1 0 0 0 1 0 1 0 0 0 1]\n",
      "\n",
      "Error: [0 0 0 0 0 0 1 1 0 0 1 1 0]\n",
      "Syndrome: [0 0 0 0 0 1 0 1 0 1 0 1]\n",
      "Decoding: [0 0 0 0 0 0 1 1 0 0 1 1 0]\n",
      "\n",
      "Error: [0 0 0 1 1 0 0 0 1 0 1 0 0]\n",
      "Syndrome: [0 0 1 0 1 0 0 1 1 1 1 0]\n",
      "Decoding: [0 0 0 1 1 0 0 0 1 0 1 0 0]\n",
      "\n"
     ]
    }
   ],
   "source": [
    "import numpy as np\n",
    "from ldpc.codes import rep_code\n",
    "from ldpc import bp_decoder\n",
    "\n",
    "n=13\n",
    "error_rate=0.3\n",
    "runs=5\n",
    "H=rep_code(n)\n",
    "\n",
    "#BP decoder class. Make sure this is defined outside the loop\n",
    "bpd=bp_decoder(H,error_rate=error_rate,max_iter=n,bp_method=\"product_sum\")\n",
    "error=np.zeros(n).astype(int) #error vector\n",
    "\n",
    "for _ in range(runs):\n",
    "    for i in range(n):\n",
    "        if np.random.random()<error_rate:\n",
    "            error[i]=1\n",
    "        else: error[i]=0\n",
    "    syndrome=H@error %2 #calculates the error syndrome\n",
    "    print(f\"Error: {error}\")\n",
    "    print(f\"Syndrome: {syndrome}\")\n",
    "    decoding=bpd.decode(syndrome)\n",
    "    print(f\"Decoding: {decoding}\\n\")"
   ]
  }
 ],
 "metadata": {
  "interpreter": {
   "hash": "3b13851432b22d6f1e5694c9da7f80ec6c6b2b7f955aecf4f28cb697779c3947"
  },
  "kernelspec": {
   "display_name": "Python 3.7.11 64-bit ('ldpc': conda)",
   "name": "python3"
  },
  "language_info": {
   "codemirror_mode": {
    "name": "ipython",
    "version": 3
   },
   "file_extension": ".py",
   "mimetype": "text/x-python",
   "name": "python",
   "nbconvert_exporter": "python",
   "pygments_lexer": "ipython3",
   "version": "3.9.7"
  }
 },
 "nbformat": 4,
 "nbformat_minor": 4
}
